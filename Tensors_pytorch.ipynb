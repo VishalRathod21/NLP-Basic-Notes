{
  "nbformat": 4,
  "nbformat_minor": 0,
  "metadata": {
    "colab": {
      "provenance": [],
      "gpuType": "T4"
    },
    "kernelspec": {
      "name": "python3",
      "display_name": "Python 3"
    },
    "language_info": {
      "name": "python"
    },
    "accelerator": "GPU"
  },
  "cells": [
    {
      "cell_type": "markdown",
      "source": [
        "## **Tensors**\n",
        "\n",
        "Tensors are a specialized data structure that are very similar to arrays and matrices. In PyTorch, we use tensors to encode the inputs and outputs of a model, as well as the model’s parameters.\n",
        "\n",
        "Tensors are similar to NumPy’s ndarrays, except that tensors can run on GPUs or other hardware accelerators. In fact, tensors and NumPy arrays can often share the same underlying memory, eliminating the need to copy data (see Bridge with NumPy). Tensors are also optimized for automatic differentiation (we’ll see more about that later in the Autograd section). If you’re familiar with ndarrays, you’ll be right at home with the Tensor API. If not, follow along!"
      ],
      "metadata": {
        "id": "7QBah3sT87Lx"
      }
    },
    {
      "cell_type": "code",
      "execution_count": null,
      "metadata": {
        "id": "CTvbsDsS8qE9"
      },
      "outputs": [],
      "source": [
        "import torch\n",
        "import numpy as np"
      ]
    },
    {
      "cell_type": "markdown",
      "source": [
        "Directly from data"
      ],
      "metadata": {
        "id": "SsRCeMXS-b09"
      }
    },
    {
      "cell_type": "code",
      "source": [
        "data = [[1,2],[1,3]]\n",
        "X_data = torch.tensor(data)"
      ],
      "metadata": {
        "id": "YAkcDypP92kk"
      },
      "execution_count": null,
      "outputs": []
    },
    {
      "cell_type": "code",
      "source": [
        "X_data"
      ],
      "metadata": {
        "colab": {
          "base_uri": "https://localhost:8080/"
        },
        "id": "UiePzVbJ-mQ6",
        "outputId": "281d33e9-48f3-448d-8607-46ab99025ed3"
      },
      "execution_count": null,
      "outputs": [
        {
          "output_type": "execute_result",
          "data": {
            "text/plain": [
              "tensor([[1, 2],\n",
              "        [1, 3]])"
            ]
          },
          "metadata": {},
          "execution_count": 3
        }
      ]
    },
    {
      "cell_type": "markdown",
      "source": [
        "From a NumPy array"
      ],
      "metadata": {
        "id": "-ejB0LGK-8n0"
      }
    },
    {
      "cell_type": "code",
      "source": [
        "np_array = np.array(data)\n",
        "X_np = torch.from_numpy(np_array)"
      ],
      "metadata": {
        "id": "bbyZQnfv-oTJ"
      },
      "execution_count": null,
      "outputs": []
    },
    {
      "cell_type": "code",
      "source": [
        "X_np"
      ],
      "metadata": {
        "colab": {
          "base_uri": "https://localhost:8080/"
        },
        "id": "RY60_bFV_Mjj",
        "outputId": "b4783458-65e4-487b-cc7e-5a6b81603488"
      },
      "execution_count": null,
      "outputs": [
        {
          "output_type": "execute_result",
          "data": {
            "text/plain": [
              "tensor([[1, 2],\n",
              "        [1, 3]])"
            ]
          },
          "metadata": {},
          "execution_count": 5
        }
      ]
    },
    {
      "cell_type": "markdown",
      "source": [
        "# Start"
      ],
      "metadata": {
        "id": "AWzkGIB8BPTp"
      }
    },
    {
      "cell_type": "code",
      "source": [
        "if torch.cuda.is_available():\n",
        "  print(\"GPU is available\")\n",
        "  print(f\"using GPU : {torch.cuda.get_device_name(0)}\")\n",
        "else:\n",
        "  print(\"GPU not available using CPU\")"
      ],
      "metadata": {
        "colab": {
          "base_uri": "https://localhost:8080/"
        },
        "id": "M5JIWVWF_OSQ",
        "outputId": "4b0e468b-4458-46ed-9167-08e30b6615c4"
      },
      "execution_count": null,
      "outputs": [
        {
          "output_type": "stream",
          "name": "stdout",
          "text": [
            "GPU is available\n",
            "using GPU : Tesla T4\n"
          ]
        }
      ]
    },
    {
      "cell_type": "markdown",
      "source": [
        "Creating a Tensor"
      ],
      "metadata": {
        "id": "oXfrxAFlHWG1"
      }
    },
    {
      "cell_type": "code",
      "source": [
        "#using empty\n",
        "a =torch.empty(2,3)"
      ],
      "metadata": {
        "id": "2PT-Qjg3BtBb"
      },
      "execution_count": null,
      "outputs": []
    },
    {
      "cell_type": "code",
      "source": [
        "# check type\n",
        "type(a)"
      ],
      "metadata": {
        "colab": {
          "base_uri": "https://localhost:8080/"
        },
        "id": "pXK2XXk7Hv51",
        "outputId": "607d8cea-2122-4df3-8ba7-56c84ef86045"
      },
      "execution_count": null,
      "outputs": [
        {
          "output_type": "execute_result",
          "data": {
            "text/plain": [
              "torch.Tensor"
            ]
          },
          "metadata": {},
          "execution_count": 12
        }
      ]
    },
    {
      "cell_type": "code",
      "source": [
        "#using zeros\n",
        "torch.zeros(2,3)"
      ],
      "metadata": {
        "colab": {
          "base_uri": "https://localhost:8080/"
        },
        "id": "NKESSJAsH4nL",
        "outputId": "befcf0b8-d2c4-4701-bfe5-0bdd07334055"
      },
      "execution_count": null,
      "outputs": [
        {
          "output_type": "execute_result",
          "data": {
            "text/plain": [
              "tensor([[0., 0., 0.],\n",
              "        [0., 0., 0.]])"
            ]
          },
          "metadata": {},
          "execution_count": 13
        }
      ]
    },
    {
      "cell_type": "code",
      "source": [
        "#using ones\n",
        "torch.ones(2,3)"
      ],
      "metadata": {
        "colab": {
          "base_uri": "https://localhost:8080/"
        },
        "id": "PrMUDEtAH-ID",
        "outputId": "fcaea766-2943-475b-cd4d-5e8353cc3b85"
      },
      "execution_count": null,
      "outputs": [
        {
          "output_type": "execute_result",
          "data": {
            "text/plain": [
              "tensor([[1., 1., 1.],\n",
              "        [1., 1., 1.]])"
            ]
          },
          "metadata": {},
          "execution_count": 14
        }
      ]
    },
    {
      "cell_type": "code",
      "source": [
        "#using rand\n",
        "torch.rand(2,3)"
      ],
      "metadata": {
        "colab": {
          "base_uri": "https://localhost:8080/"
        },
        "id": "CzXlsY8TIG3i",
        "outputId": "0b9cc8d7-2919-4107-cec0-5b27865ad1e9"
      },
      "execution_count": null,
      "outputs": [
        {
          "output_type": "execute_result",
          "data": {
            "text/plain": [
              "tensor([[0.2238, 0.2956, 0.7786],\n",
              "        [0.3522, 0.9509, 0.3671]])"
            ]
          },
          "metadata": {},
          "execution_count": 15
        }
      ]
    },
    {
      "cell_type": "code",
      "source": [
        "#use of seed\n",
        "torch.manual_seed(100)\n",
        "torch.rand(2,3)"
      ],
      "metadata": {
        "colab": {
          "base_uri": "https://localhost:8080/"
        },
        "id": "JddQ45F6IM3C",
        "outputId": "ce294559-f439-447b-862c-dc308d073df0"
      },
      "execution_count": null,
      "outputs": [
        {
          "output_type": "execute_result",
          "data": {
            "text/plain": [
              "tensor([[0.1117, 0.8158, 0.2626],\n",
              "        [0.4839, 0.6765, 0.7539]])"
            ]
          },
          "metadata": {},
          "execution_count": 17
        }
      ]
    },
    {
      "cell_type": "code",
      "source": [
        "# using tensor\n",
        "torch.tensor([[1,2,3],[4,5,6]])"
      ],
      "metadata": {
        "colab": {
          "base_uri": "https://localhost:8080/"
        },
        "id": "f2Y43MAmIhSL",
        "outputId": "d1bf57b0-9652-45f2-d253-3128f50cf259"
      },
      "execution_count": null,
      "outputs": [
        {
          "output_type": "execute_result",
          "data": {
            "text/plain": [
              "tensor([[1, 2, 3],\n",
              "        [4, 5, 6]])"
            ]
          },
          "metadata": {},
          "execution_count": 18
        }
      ]
    },
    {
      "cell_type": "code",
      "source": [
        "# other ways\n",
        "\n",
        "#arrange\n",
        "print(\"using arrange ->\",torch.arange(0,10,2))\n",
        "\n",
        "#using linespace\n",
        "print(\"using linspace \",torch.linspace(0,10,10))\n",
        "\n",
        "#using eye\n",
        "print('using eye ', torch.eye(5))\n",
        "\n",
        "#using full\n",
        "print(\"using full \",torch.full((3,3),5))"
      ],
      "metadata": {
        "colab": {
          "base_uri": "https://localhost:8080/"
        },
        "id": "_zrcCDS3I03r",
        "outputId": "6db35e08-c8d3-4019-d12a-3a1323c39d6c"
      },
      "execution_count": null,
      "outputs": [
        {
          "output_type": "stream",
          "name": "stdout",
          "text": [
            "using arrange -> tensor([0, 2, 4, 6, 8])\n",
            "using linspace  tensor([ 0.0000,  1.1111,  2.2222,  3.3333,  4.4444,  5.5556,  6.6667,  7.7778,\n",
            "         8.8889, 10.0000])\n",
            "using eye  tensor([[1., 0., 0., 0., 0.],\n",
            "        [0., 1., 0., 0., 0.],\n",
            "        [0., 0., 1., 0., 0.],\n",
            "        [0., 0., 0., 1., 0.],\n",
            "        [0., 0., 0., 0., 1.]])\n",
            "using full  tensor([[5, 5, 5],\n",
            "        [5, 5, 5],\n",
            "        [5, 5, 5]])\n"
          ]
        }
      ]
    },
    {
      "cell_type": "markdown",
      "source": [
        "# Tensor Shapes"
      ],
      "metadata": {
        "id": "MqJtNj6OMd0G"
      }
    },
    {
      "cell_type": "code",
      "source": [
        "x = torch.tensor([[1,3,4],[4,5,6]])"
      ],
      "metadata": {
        "id": "N973GV7cMNet"
      },
      "execution_count": null,
      "outputs": []
    },
    {
      "cell_type": "code",
      "source": [
        "x"
      ],
      "metadata": {
        "colab": {
          "base_uri": "https://localhost:8080/"
        },
        "id": "XOD8fJYrMmps",
        "outputId": "442d2c08-9264-4528-fc65-5a382597e4ed"
      },
      "execution_count": null,
      "outputs": [
        {
          "output_type": "execute_result",
          "data": {
            "text/plain": [
              "tensor([[1, 3, 4],\n",
              "        [4, 5, 6]])"
            ]
          },
          "metadata": {},
          "execution_count": 22
        }
      ]
    },
    {
      "cell_type": "code",
      "source": [
        "x.shape"
      ],
      "metadata": {
        "colab": {
          "base_uri": "https://localhost:8080/"
        },
        "id": "f3K0jcGoMnN8",
        "outputId": "2ac8c659-f8bb-41e2-ba14-8395b16c579f"
      },
      "execution_count": null,
      "outputs": [
        {
          "output_type": "execute_result",
          "data": {
            "text/plain": [
              "torch.Size([2, 3])"
            ]
          },
          "metadata": {},
          "execution_count": 23
        }
      ]
    },
    {
      "cell_type": "code",
      "source": [
        "torch.empty_like(x)"
      ],
      "metadata": {
        "colab": {
          "base_uri": "https://localhost:8080/"
        },
        "id": "E3xlt7ZBMozD",
        "outputId": "4e20951d-dae0-4271-9856-2de8bc778008"
      },
      "execution_count": null,
      "outputs": [
        {
          "output_type": "execute_result",
          "data": {
            "text/plain": [
              "tensor([[134263436362416, 134263436362416, 134260008228912],\n",
              "        [134264611264496,        10761296, 134260008228864]])"
            ]
          },
          "metadata": {},
          "execution_count": 24
        }
      ]
    },
    {
      "cell_type": "code",
      "source": [
        "torch.zeros_like(x)"
      ],
      "metadata": {
        "colab": {
          "base_uri": "https://localhost:8080/"
        },
        "id": "lQ4YUKSxM8hr",
        "outputId": "1835f646-0444-4bd9-ad63-0477217a2dbc"
      },
      "execution_count": null,
      "outputs": [
        {
          "output_type": "execute_result",
          "data": {
            "text/plain": [
              "tensor([[0, 0, 0],\n",
              "        [0, 0, 0]])"
            ]
          },
          "metadata": {},
          "execution_count": 25
        }
      ]
    },
    {
      "cell_type": "code",
      "source": [
        "torch.rand_like(x,dtype = torch.float32)"
      ],
      "metadata": {
        "colab": {
          "base_uri": "https://localhost:8080/"
        },
        "id": "YymLDtPcOWmj",
        "outputId": "5a05b5f9-b865-42b0-a1f1-236e7ea684bc"
      },
      "execution_count": null,
      "outputs": [
        {
          "output_type": "execute_result",
          "data": {
            "text/plain": [
              "tensor([[0.2627, 0.0428, 0.2080],\n",
              "        [0.1180, 0.1217, 0.7356]])"
            ]
          },
          "metadata": {},
          "execution_count": 31
        }
      ]
    },
    {
      "cell_type": "markdown",
      "source": [
        "# Tensor Data Types"
      ],
      "metadata": {
        "id": "kuGs8OxqOoSk"
      }
    },
    {
      "cell_type": "code",
      "source": [
        "# find data type\n",
        "x.dtype"
      ],
      "metadata": {
        "colab": {
          "base_uri": "https://localhost:8080/"
        },
        "id": "ZOcNmqPJOZsy",
        "outputId": "e9e08e0b-2c91-4d4b-c42b-0ad159e2ddaf"
      },
      "execution_count": null,
      "outputs": [
        {
          "output_type": "execute_result",
          "data": {
            "text/plain": [
              "torch.int64"
            ]
          },
          "metadata": {},
          "execution_count": 27
        }
      ]
    },
    {
      "cell_type": "code",
      "source": [
        "# assign data\n",
        "torch.tensor([1.0,2.0,3.0],dtype = torch.int32)"
      ],
      "metadata": {
        "colab": {
          "base_uri": "https://localhost:8080/"
        },
        "id": "TkwFQQ_NOxMC",
        "outputId": "fe945e4a-8db6-4239-9c63-7aef237f668a"
      },
      "execution_count": null,
      "outputs": [
        {
          "output_type": "execute_result",
          "data": {
            "text/plain": [
              "tensor([1, 2, 3], dtype=torch.int32)"
            ]
          },
          "metadata": {},
          "execution_count": 28
        }
      ]
    },
    {
      "cell_type": "code",
      "source": [
        "torch.tensor([1,2,3],dtype = torch.float64)\n"
      ],
      "metadata": {
        "colab": {
          "base_uri": "https://localhost:8080/"
        },
        "id": "sHRssR4WPFA5",
        "outputId": "0b92e2ed-c6a0-44f6-a352-057685dbf584"
      },
      "execution_count": null,
      "outputs": [
        {
          "output_type": "execute_result",
          "data": {
            "text/plain": [
              "tensor([1., 2., 3.], dtype=torch.float64)"
            ]
          },
          "metadata": {},
          "execution_count": 29
        }
      ]
    },
    {
      "cell_type": "code",
      "source": [
        "#using to ()\n",
        "x.to(torch.float32)"
      ],
      "metadata": {
        "colab": {
          "base_uri": "https://localhost:8080/"
        },
        "id": "-Cm-aWRJPUfZ",
        "outputId": "6dbc8363-465f-4e53-e94e-fe1f0faf4f6e"
      },
      "execution_count": null,
      "outputs": [
        {
          "output_type": "execute_result",
          "data": {
            "text/plain": [
              "tensor([[1., 3., 4.],\n",
              "        [4., 5., 6.]])"
            ]
          },
          "metadata": {},
          "execution_count": 30
        }
      ]
    },
    {
      "cell_type": "markdown",
      "source": [
        "# Mathematical"
      ],
      "metadata": {
        "id": "vzDTWfBQQdpG"
      }
    },
    {
      "cell_type": "code",
      "source": [
        "x = torch.rand(2,2)"
      ],
      "metadata": {
        "id": "R6QEhWR9PY_J"
      },
      "execution_count": null,
      "outputs": []
    },
    {
      "cell_type": "code",
      "source": [
        "x + 2\n",
        "x-2\n",
        "x*3\n",
        "x/3\n",
        "(x*100)//3\n"
      ],
      "metadata": {
        "colab": {
          "base_uri": "https://localhost:8080/"
        },
        "id": "vJH5NT3JQjvY",
        "outputId": "6a163f68-5b88-4b81-c087-e3624900dcdc"
      },
      "execution_count": null,
      "outputs": [
        {
          "output_type": "execute_result",
          "data": {
            "text/plain": [
              "tensor([[23., 26.],\n",
              "        [13., 30.]])"
            ]
          },
          "metadata": {},
          "execution_count": 33
        }
      ]
    },
    {
      "cell_type": "code",
      "source": [
        "c = torch.tensor([1,-2,3,-4])"
      ],
      "metadata": {
        "id": "q0w6ATSeQ7TA"
      },
      "execution_count": null,
      "outputs": []
    },
    {
      "cell_type": "code",
      "source": [
        "# abs\n",
        "torch.abs(c)"
      ],
      "metadata": {
        "colab": {
          "base_uri": "https://localhost:8080/"
        },
        "id": "njpvMA8ORamY",
        "outputId": "d1f4703a-6a90-46f4-9d77-755e3015135b"
      },
      "execution_count": null,
      "outputs": [
        {
          "output_type": "execute_result",
          "data": {
            "text/plain": [
              "tensor([1, 2, 3, 4])"
            ]
          },
          "metadata": {},
          "execution_count": 35
        }
      ]
    },
    {
      "cell_type": "markdown",
      "source": [
        "# inplace operations"
      ],
      "metadata": {
        "id": "DzXfWpaFRpI6"
      }
    },
    {
      "cell_type": "code",
      "source": [
        "m = torch.rand(2,3)\n",
        "n = torch.rand(2,3)\n",
        "\n",
        "print(m)\n",
        "print(n)"
      ],
      "metadata": {
        "colab": {
          "base_uri": "https://localhost:8080/"
        },
        "id": "THs1LkGVRebH",
        "outputId": "4b3a925a-715b-450a-f2f7-b6ce2bbdc698"
      },
      "execution_count": null,
      "outputs": [
        {
          "output_type": "stream",
          "name": "stdout",
          "text": [
            "tensor([[0.9969, 0.7565, 0.2239],\n",
            "        [0.3023, 0.1784, 0.8238]])\n",
            "tensor([[0.5557, 0.9770, 0.4440],\n",
            "        [0.9478, 0.7445, 0.4892]])\n"
          ]
        }
      ]
    },
    {
      "cell_type": "code",
      "source": [
        "m + n"
      ],
      "metadata": {
        "colab": {
          "base_uri": "https://localhost:8080/"
        },
        "id": "oFxVtzAfRzLf",
        "outputId": "c445d39b-586c-4dd4-a46e-2cdcfbc9e7fa"
      },
      "execution_count": null,
      "outputs": [
        {
          "output_type": "execute_result",
          "data": {
            "text/plain": [
              "tensor([[1.5526, 1.7335, 0.6679],\n",
              "        [1.2502, 0.9229, 1.3130]])"
            ]
          },
          "metadata": {},
          "execution_count": 37
        }
      ]
    },
    {
      "cell_type": "code",
      "source": [
        "m.add_(n)"
      ],
      "metadata": {
        "colab": {
          "base_uri": "https://localhost:8080/"
        },
        "id": "SSi48yLkR2vH",
        "outputId": "9ac0716d-b3fa-49f3-b22b-df5cc874950a"
      },
      "execution_count": null,
      "outputs": [
        {
          "output_type": "execute_result",
          "data": {
            "text/plain": [
              "tensor([[1.5526, 1.7335, 0.6679],\n",
              "        [1.2502, 0.9229, 1.3130]])"
            ]
          },
          "metadata": {},
          "execution_count": 38
        }
      ]
    },
    {
      "cell_type": "code",
      "source": [
        "n"
      ],
      "metadata": {
        "colab": {
          "base_uri": "https://localhost:8080/"
        },
        "id": "IBWSGwvWSN1f",
        "outputId": "24df2488-9836-44e5-92fa-24e68f51d431"
      },
      "execution_count": null,
      "outputs": [
        {
          "output_type": "execute_result",
          "data": {
            "text/plain": [
              "tensor([[0.5557, 0.9770, 0.4440],\n",
              "        [0.9478, 0.7445, 0.4892]])"
            ]
          },
          "metadata": {},
          "execution_count": 39
        }
      ]
    },
    {
      "cell_type": "code",
      "source": [
        "torch.relu(m)"
      ],
      "metadata": {
        "colab": {
          "base_uri": "https://localhost:8080/"
        },
        "id": "FIGg1pohSPOv",
        "outputId": "ec12a03c-16ea-44bc-9433-2000ace6d067"
      },
      "execution_count": null,
      "outputs": [
        {
          "output_type": "execute_result",
          "data": {
            "text/plain": [
              "tensor([[1.5526, 1.7335, 0.6679],\n",
              "        [1.2502, 0.9229, 1.3130]])"
            ]
          },
          "metadata": {},
          "execution_count": 40
        }
      ]
    },
    {
      "cell_type": "markdown",
      "source": [
        "# copying a tensor"
      ],
      "metadata": {
        "id": "HTRMQ5QgScjs"
      }
    },
    {
      "cell_type": "code",
      "source": [
        "a = torch.rand(2,3)"
      ],
      "metadata": {
        "id": "af-bCRtwSSST"
      },
      "execution_count": null,
      "outputs": []
    },
    {
      "cell_type": "code",
      "source": [
        "b = a"
      ],
      "metadata": {
        "id": "bxVx0l0lSgnW"
      },
      "execution_count": null,
      "outputs": []
    },
    {
      "cell_type": "code",
      "source": [
        "b"
      ],
      "metadata": {
        "colab": {
          "base_uri": "https://localhost:8080/"
        },
        "id": "rJM_abclShd-",
        "outputId": "a757a0af-bdb8-442e-8ede-83bc58be43ce"
      },
      "execution_count": null,
      "outputs": [
        {
          "output_type": "execute_result",
          "data": {
            "text/plain": [
              "tensor([[0.2426, 0.7003, 0.5277],\n",
              "        [0.2472, 0.7909, 0.4235]])"
            ]
          },
          "metadata": {},
          "execution_count": 43
        }
      ]
    },
    {
      "cell_type": "code",
      "source": [
        "a[0][0] = 0"
      ],
      "metadata": {
        "id": "7IQqp8mpSiHX"
      },
      "execution_count": null,
      "outputs": []
    },
    {
      "cell_type": "code",
      "source": [
        "a"
      ],
      "metadata": {
        "colab": {
          "base_uri": "https://localhost:8080/"
        },
        "id": "QjpxBF1FSl5m",
        "outputId": "1ea8bc50-e2b2-456a-b9a4-0a8dc529919a"
      },
      "execution_count": null,
      "outputs": [
        {
          "output_type": "execute_result",
          "data": {
            "text/plain": [
              "tensor([[0.0000, 0.7003, 0.5277],\n",
              "        [0.2472, 0.7909, 0.4235]])"
            ]
          },
          "metadata": {},
          "execution_count": 45
        }
      ]
    },
    {
      "cell_type": "code",
      "source": [
        "b"
      ],
      "metadata": {
        "colab": {
          "base_uri": "https://localhost:8080/"
        },
        "id": "U_Nu24CQSmf-",
        "outputId": "1628042a-6b13-4590-b208-b59917888876"
      },
      "execution_count": null,
      "outputs": [
        {
          "output_type": "execute_result",
          "data": {
            "text/plain": [
              "tensor([[0.0000, 0.7003, 0.5277],\n",
              "        [0.2472, 0.7909, 0.4235]])"
            ]
          },
          "metadata": {},
          "execution_count": 46
        }
      ]
    },
    {
      "cell_type": "markdown",
      "source": [
        "# Tensor Operations On GPU"
      ],
      "metadata": {
        "id": "sC0M2yhdSv73"
      }
    },
    {
      "cell_type": "code",
      "source": [
        "torch.cuda.is_available()"
      ],
      "metadata": {
        "colab": {
          "base_uri": "https://localhost:8080/"
        },
        "id": "jrWPenhzSoGn",
        "outputId": "7868f9dc-54b8-415d-fb3f-bc702c925cfe"
      },
      "execution_count": null,
      "outputs": [
        {
          "output_type": "execute_result",
          "data": {
            "text/plain": [
              "True"
            ]
          },
          "metadata": {},
          "execution_count": 47
        }
      ]
    },
    {
      "cell_type": "code",
      "source": [
        "device = torch.device('cuda')"
      ],
      "metadata": {
        "id": "nLKtFV4mS6YW"
      },
      "execution_count": null,
      "outputs": []
    },
    {
      "cell_type": "code",
      "source": [
        "#creating a new tensor on GPU\n",
        "torch.rand((2,3),device = device)"
      ],
      "metadata": {
        "colab": {
          "base_uri": "https://localhost:8080/"
        },
        "id": "DBsLZ73SS9ju",
        "outputId": "398af83a-ac2e-48dc-e609-e1f07dc89f9c"
      },
      "execution_count": null,
      "outputs": [
        {
          "output_type": "execute_result",
          "data": {
            "text/plain": [
              "tensor([[0.3563, 0.0303, 0.7088],\n",
              "        [0.2009, 0.0224, 0.9896]], device='cuda:0')"
            ]
          },
          "metadata": {},
          "execution_count": 49
        }
      ]
    },
    {
      "cell_type": "code",
      "source": [
        "# moving an existing tensor to GPU\n",
        "a"
      ],
      "metadata": {
        "colab": {
          "base_uri": "https://localhost:8080/"
        },
        "id": "hHx8uJbmTJ3H",
        "outputId": "4cd6b364-a9ca-43b8-b1c3-83e6cc9c73e3"
      },
      "execution_count": null,
      "outputs": [
        {
          "output_type": "execute_result",
          "data": {
            "text/plain": [
              "tensor([[0.0000, 0.7003, 0.5277],\n",
              "        [0.2472, 0.7909, 0.4235]])"
            ]
          },
          "metadata": {},
          "execution_count": 50
        }
      ]
    },
    {
      "cell_type": "code",
      "source": [
        "b = a.to(device)"
      ],
      "metadata": {
        "id": "-SsBKqBQTQNm"
      },
      "execution_count": null,
      "outputs": []
    },
    {
      "cell_type": "code",
      "source": [
        "b + 5"
      ],
      "metadata": {
        "colab": {
          "base_uri": "https://localhost:8080/"
        },
        "id": "7BxmoFG3Td12",
        "outputId": "90626ce8-eef4-4a5b-daf0-8a1cb761b7fa"
      },
      "execution_count": null,
      "outputs": [
        {
          "output_type": "execute_result",
          "data": {
            "text/plain": [
              "tensor([[5.0000, 5.7003, 5.5277],\n",
              "        [5.2472, 5.7909, 5.4235]], device='cuda:0')"
            ]
          },
          "metadata": {},
          "execution_count": 52
        }
      ]
    },
    {
      "cell_type": "markdown",
      "source": [
        "# Reshaping Tensors"
      ],
      "metadata": {
        "id": "4QBWhMoOTzvc"
      }
    },
    {
      "cell_type": "code",
      "source": [
        "a = torch.ones(4,4)"
      ],
      "metadata": {
        "id": "ns5_LqZSTe8W"
      },
      "execution_count": null,
      "outputs": []
    },
    {
      "cell_type": "code",
      "source": [
        "a"
      ],
      "metadata": {
        "colab": {
          "base_uri": "https://localhost:8080/"
        },
        "id": "P80gMQz-T5U-",
        "outputId": "6b8bbed0-d6c7-41f4-a163-3fb027fe5146"
      },
      "execution_count": null,
      "outputs": [
        {
          "output_type": "execute_result",
          "data": {
            "text/plain": [
              "tensor([[1., 1., 1., 1.],\n",
              "        [1., 1., 1., 1.],\n",
              "        [1., 1., 1., 1.],\n",
              "        [1., 1., 1., 1.]])"
            ]
          },
          "metadata": {},
          "execution_count": 54
        }
      ]
    },
    {
      "cell_type": "code",
      "source": [
        "a.reshape(2,2,2,2)"
      ],
      "metadata": {
        "colab": {
          "base_uri": "https://localhost:8080/"
        },
        "id": "U98eFhjPT6OO",
        "outputId": "77c1fdc6-5f0b-4445-93cf-13d9d3106891"
      },
      "execution_count": null,
      "outputs": [
        {
          "output_type": "execute_result",
          "data": {
            "text/plain": [
              "tensor([[[[1., 1.],\n",
              "          [1., 1.]],\n",
              "\n",
              "         [[1., 1.],\n",
              "          [1., 1.]]],\n",
              "\n",
              "\n",
              "        [[[1., 1.],\n",
              "          [1., 1.]],\n",
              "\n",
              "         [[1., 1.],\n",
              "          [1., 1.]]]])"
            ]
          },
          "metadata": {},
          "execution_count": 55
        }
      ]
    },
    {
      "cell_type": "code",
      "source": [
        "a.flatten()"
      ],
      "metadata": {
        "colab": {
          "base_uri": "https://localhost:8080/"
        },
        "id": "bd1pS90GT9UW",
        "outputId": "02db8168-ac0d-47bb-ca3f-687f84d9697b"
      },
      "execution_count": null,
      "outputs": [
        {
          "output_type": "execute_result",
          "data": {
            "text/plain": [
              "tensor([1., 1., 1., 1., 1., 1., 1., 1., 1., 1., 1., 1., 1., 1., 1., 1.])"
            ]
          },
          "metadata": {},
          "execution_count": 56
        }
      ]
    },
    {
      "cell_type": "code",
      "source": [
        "b = torch.rand(2,3,4)"
      ],
      "metadata": {
        "id": "0Yhx5_y7T_0u"
      },
      "execution_count": null,
      "outputs": []
    },
    {
      "cell_type": "code",
      "source": [
        "b"
      ],
      "metadata": {
        "colab": {
          "base_uri": "https://localhost:8080/"
        },
        "id": "4tQjkByxUEs_",
        "outputId": "750e4f55-0400-42ed-a221-c3f2911b3474"
      },
      "execution_count": null,
      "outputs": [
        {
          "output_type": "execute_result",
          "data": {
            "text/plain": [
              "tensor([[[0.0169, 0.2209, 0.9535, 0.7064],\n",
              "         [0.1629, 0.8902, 0.5163, 0.0359],\n",
              "         [0.6476, 0.3430, 0.3182, 0.5261]],\n",
              "\n",
              "        [[0.0447, 0.5123, 0.9051, 0.5989],\n",
              "         [0.4450, 0.7278, 0.4563, 0.3389],\n",
              "         [0.6211, 0.5530, 0.6896, 0.3687]]])"
            ]
          },
          "metadata": {},
          "execution_count": 58
        }
      ]
    },
    {
      "cell_type": "code",
      "source": [
        "b.permute(2,0,1)"
      ],
      "metadata": {
        "colab": {
          "base_uri": "https://localhost:8080/"
        },
        "id": "23rCAgY9UFW-",
        "outputId": "fc91b326-9248-4928-a8c2-5ac23b2cda28"
      },
      "execution_count": null,
      "outputs": [
        {
          "output_type": "execute_result",
          "data": {
            "text/plain": [
              "tensor([[[0.0169, 0.1629, 0.6476],\n",
              "         [0.0447, 0.4450, 0.6211]],\n",
              "\n",
              "        [[0.2209, 0.8902, 0.3430],\n",
              "         [0.5123, 0.7278, 0.5530]],\n",
              "\n",
              "        [[0.9535, 0.5163, 0.3182],\n",
              "         [0.9051, 0.4563, 0.6896]],\n",
              "\n",
              "        [[0.7064, 0.0359, 0.5261],\n",
              "         [0.5989, 0.3389, 0.3687]]])"
            ]
          },
          "metadata": {},
          "execution_count": 60
        }
      ]
    },
    {
      "cell_type": "code",
      "source": [
        "c = torch.rand(226,226,3)"
      ],
      "metadata": {
        "id": "Mu-Zh-Q8UHf-"
      },
      "execution_count": null,
      "outputs": []
    },
    {
      "cell_type": "code",
      "source": [
        "d = torch.rand(1,20)"
      ],
      "metadata": {
        "id": "lWarM5F7UZzd"
      },
      "execution_count": null,
      "outputs": []
    },
    {
      "cell_type": "code",
      "source": [
        "c"
      ],
      "metadata": {
        "colab": {
          "base_uri": "https://localhost:8080/"
        },
        "id": "4jq1a3j_Uc9N",
        "outputId": "e016f91e-6d63-41b2-e8c1-e68768479d32"
      },
      "execution_count": null,
      "outputs": [
        {
          "output_type": "execute_result",
          "data": {
            "text/plain": [
              "tensor([[[0.9053, 0.8356, 0.3039],\n",
              "         [0.6726, 0.5740, 0.9233],\n",
              "         [0.9178, 0.7590, 0.7775],\n",
              "         ...,\n",
              "         [0.9128, 0.3356, 0.0426],\n",
              "         [0.6426, 0.8048, 0.9173],\n",
              "         [0.8631, 0.5196, 0.7514]],\n",
              "\n",
              "        [[0.5117, 0.6630, 0.7960],\n",
              "         [0.2162, 0.8056, 0.7325],\n",
              "         [0.5663, 0.5072, 0.0658],\n",
              "         ...,\n",
              "         [0.8165, 0.4348, 0.6186],\n",
              "         [0.7956, 0.1282, 0.4270],\n",
              "         [0.2543, 0.6202, 0.1659]],\n",
              "\n",
              "        [[0.7134, 0.0013, 0.4804],\n",
              "         [0.3427, 0.3037, 0.9663],\n",
              "         [0.9853, 0.9767, 0.9520],\n",
              "         ...,\n",
              "         [0.5582, 0.3579, 0.1122],\n",
              "         [0.6152, 0.4207, 0.2460],\n",
              "         [0.4301, 0.5817, 0.0254]],\n",
              "\n",
              "        ...,\n",
              "\n",
              "        [[0.0508, 0.2136, 0.2118],\n",
              "         [0.5938, 0.8926, 0.4272],\n",
              "         [0.2595, 0.1173, 0.2560],\n",
              "         ...,\n",
              "         [0.3238, 0.7355, 0.8038],\n",
              "         [0.2213, 0.1583, 0.6835],\n",
              "         [0.7315, 0.2190, 0.5256]],\n",
              "\n",
              "        [[0.3657, 0.8577, 0.9057],\n",
              "         [0.4218, 0.6984, 0.6048],\n",
              "         [0.1963, 0.5190, 0.7742],\n",
              "         ...,\n",
              "         [0.1441, 0.4832, 0.1596],\n",
              "         [0.5675, 0.2495, 0.4713],\n",
              "         [0.3384, 0.0913, 0.9728]],\n",
              "\n",
              "        [[0.8334, 0.8779, 0.3071],\n",
              "         [0.1004, 0.3793, 0.0298],\n",
              "         [0.9738, 0.7107, 0.6866],\n",
              "         ...,\n",
              "         [0.5466, 0.1547, 0.6776],\n",
              "         [0.5736, 0.2652, 0.2974],\n",
              "         [0.2114, 0.5258, 0.4545]]])"
            ]
          },
          "metadata": {},
          "execution_count": 63
        }
      ]
    },
    {
      "cell_type": "code",
      "source": [
        "d"
      ],
      "metadata": {
        "colab": {
          "base_uri": "https://localhost:8080/"
        },
        "id": "3tjPjIRyUdXN",
        "outputId": "c2fe2b78-58a6-4fcc-948b-4985dc5ed9f9"
      },
      "execution_count": null,
      "outputs": [
        {
          "output_type": "execute_result",
          "data": {
            "text/plain": [
              "tensor([[0.6320, 0.5090, 0.3601, 0.2711, 0.8044, 0.6348, 0.9330, 0.6773, 0.5558,\n",
              "         0.2637, 0.2796, 0.9473, 0.9075, 0.7746, 0.3436, 0.9904, 0.3872, 0.7749,\n",
              "         0.7831, 0.8303]])"
            ]
          },
          "metadata": {},
          "execution_count": 64
        }
      ]
    },
    {
      "cell_type": "code",
      "source": [],
      "metadata": {
        "id": "6HJ-1vD6Ud11"
      },
      "execution_count": null,
      "outputs": []
    }
  ]
}