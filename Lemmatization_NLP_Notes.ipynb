{
 "cells": [
  {
   "cell_type": "markdown",
   "metadata": {},
   "source": [
    "# 📝 NLP Notes: Lemmatization\n",
    "\n",
    "## 🔹 What is Lemmatization?\n",
    "Lemmatization is the process of converting a word to its base or dictionary form, called a *lemma*.\n",
    "\n",
    "Unlike stemming, lemmatization uses a dictionary (WordNet) to get the correct root form of the word, ensuring the result is a valid word.\n",
    "\n",
    "For example:\n",
    "- \"running\" → \"run\"\n",
    "- \"better\" → \"good\"\n",
    "\n",
    "**Lemmatization is more accurate and context-aware than stemming.**"
   ]
  },
  {
   "cell_type": "markdown",
   "metadata": {},
   "source": [
    "## ✅ WordNet Lemmatizer (NLTK)\n",
    "The `WordNetLemmatizer` uses the WordNet lexical database to find the base form of a word.\n",
    "\n",
    "To use it effectively, we can pass the part of speech (POS) of the word:\n",
    "- `n` for noun\n",
    "- `v` for verb\n",
    "- `a` for adjective\n",
    "- `r` for adverb\n",
    "\n",
    "Lemmatization technique is like stemming. The output we will get after lemmatization is called lemma, which is a root word rather than root stem, the output of stemming. After lemmatization, we will be getting a valid word that means that senat hang\n",
    "\n",
    "NLTK provides WordNetLemmatizer class which is a thin wrapper around the wordnet corpus. This class uses morphy() function to the WordNet Corpus Reader class to find a lemma. Let us understand it with an example -"
   ]
  },
  {
   "cell_type": "code",
   "execution_count": 1,
   "metadata": {},
   "outputs": [
    {
     "name": "stderr",
     "output_type": "stream",
     "text": [
      "[nltk_data] Downloading package wordnet to\n",
      "[nltk_data]     C:\\Users\\vishalrathod\\AppData\\Roaming\\nltk_data...\n",
      "[nltk_data] Downloading package omw-1.4 to\n",
      "[nltk_data]     C:\\Users\\vishalrathod\\AppData\\Roaming\\nltk_data...\n"
     ]
    },
    {
     "name": "stdout",
     "output_type": "stream",
     "text": [
      "running → running\n",
      "flies → fly\n",
      "better → better\n",
      "bigger → bigger\n",
      "rocks → rock\n",
      "studies → study\n"
     ]
    }
   ],
   "source": [
    "from nltk.stem import WordNetLemmatizer\n",
    "from nltk.corpus import wordnet\n",
    "import nltk\n",
    "\n",
    "# Download WordNet if not already done\n",
    "nltk.download('wordnet')\n",
    "nltk.download('omw-1.4')\n",
    "\n",
    "lemmatizer = WordNetLemmatizer()\n",
    "\n",
    "words = [\"running\", \"flies\", \"better\", \"bigger\", \"rocks\", \"studies\"]\n",
    "\n",
    "for word in words:\n",
    "    print(f\"{word} → {lemmatizer.lemmatize(word)}\")  # default is noun"
   ]
  },
  {
   "cell_type": "markdown",
   "metadata": {},
   "source": [
    "## 🧠 Lemmatization with Part of Speech (POS)\n",
    "You get better results by providing the correct POS tag.\n",
    "\n",
    "**Example:**"
   ]
  },
  {
   "cell_type": "code",
   "execution_count": 2,
   "metadata": {},
   "outputs": [
    {
     "name": "stdout",
     "output_type": "stream",
     "text": [
      "running (verb): run\n",
      "better (adjective): good\n",
      "rocks (noun): rock\n"
     ]
    }
   ],
   "source": [
    "# Lemmatizing with POS tag\n",
    "print(\"running (verb):\", lemmatizer.lemmatize(\"running\", pos='v'))\n",
    "print(\"better (adjective):\", lemmatizer.lemmatize(\"better\", pos='a'))\n",
    "print(\"rocks (noun):\", lemmatizer.lemmatize(\"rocks\", pos='n'))"
   ]
  },
  {
   "cell_type": "markdown",
   "metadata": {},
   "source": [
    "## 🔄 Comparison: Stemming vs Lemmatization\n",
    "\n",
    "| Word       | Stemmed (Porter) | Lemmatized (WordNet) |\n",
    "|------------|------------------|-----------------------|\n",
    "| studies    | studi            | study                 |\n",
    "| better     | better           | good                  |\n",
    "| running    | run              | run                   |\n",
    "| flies      | fli              | fly                   |\n",
    "\n",
    "**Conclusion:**\n",
    "- Lemmatization gives valid dictionary words\n",
    "- More reliable and useful for NLP tasks like question answering, search engines, etc."
   ]
  }
 ],
 "metadata": {
  "kernelspec": {
   "display_name": "Python 3",
   "language": "python",
   "name": "python3"
  },
  "language_info": {
   "codemirror_mode": {
    "name": "ipython",
    "version": 3
   },
   "file_extension": ".py",
   "mimetype": "text/x-python",
   "name": "python",
   "nbconvert_exporter": "python",
   "pygments_lexer": "ipython3",
   "version": "3.10.11"
  }
 },
 "nbformat": 4,
 "nbformat_minor": 5
}
