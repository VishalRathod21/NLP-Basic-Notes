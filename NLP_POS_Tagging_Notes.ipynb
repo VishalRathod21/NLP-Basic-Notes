{
 "cells": [
  {
   "cell_type": "markdown",
   "id": "a38e612d",
   "metadata": {},
   "source": [
    "# Natural Language Processing (NLP)\n",
    "## Part-of-Speech (POS) Tagging\n",
    "In this notebook, we will explore POS tagging using the NLTK library in Python."
   ]
  },
  {
   "cell_type": "markdown",
   "id": "4216530b",
   "metadata": {},
   "source": [
    "### What is POS Tagging?\n",
    "Part-of-Speech tagging is the process of labeling each word in a sentence with its appropriate part of speech such as noun, verb, adjective, etc."
   ]
  },
  {
   "cell_type": "markdown",
   "id": "a589710c",
   "metadata": {},
   "source": [
    "### Importance in Lemmatization\n",
    "POS tagging plays a crucial role in lemmatization. Based on the word's POS tag (noun, verb, etc.), the lemmatizer chooses the correct root form."
   ]
  },
  {
   "cell_type": "markdown",
   "id": "397fce60",
   "metadata": {},
   "source": [
    "### POS Tag Examples in NLTK\n",
    "Some common POS tags used by NLTK:\n",
    "- **NN**: Noun, singular\n",
    "- **NNS**: Noun, plural\n",
    "- **VB**: Verb, base form\n",
    "- **VBD**: Verb, past tense\n",
    "- **JJ**: Adjective\n",
    "- **RB**: Adverb\n",
    "- **PRP**: Personal pronoun\n",
    "- **IN**: Preposition\n",
    "- **DT**: Determiner\n",
    "- **CC**: Coordinating conjunction\n",
    "- **CD**: Cardinal digit\n",
    "- **EX**: Existential there\n",
    "\n",
    "... and many more."
   ]
  },
  {
   "cell_type": "markdown",
   "id": "636a968d",
   "metadata": {},
   "source": [
    "## Code Implementation\n",
    "We will now implement POS tagging using NLTK."
   ]
  },
  {
   "cell_type": "code",
   "execution_count": 1,
   "id": "66583212",
   "metadata": {},
   "outputs": [
    {
     "name": "stderr",
     "output_type": "stream",
     "text": [
      "[nltk_data] Downloading package punkt to\n",
      "[nltk_data]     C:\\Users\\vishalrathod\\AppData\\Roaming\\nltk_data...\n",
      "[nltk_data]   Package punkt is already up-to-date!\n",
      "[nltk_data] Downloading package stopwords to\n",
      "[nltk_data]     C:\\Users\\vishalrathod\\AppData\\Roaming\\nltk_data...\n",
      "[nltk_data]   Package stopwords is already up-to-date!\n",
      "[nltk_data] Downloading package averaged_perceptron_tagger to\n",
      "[nltk_data]     C:\\Users\\vishalrathod\\AppData\\Roaming\\nltk_data...\n",
      "[nltk_data]   Unzipping taggers\\averaged_perceptron_tagger.zip.\n"
     ]
    },
    {
     "data": {
      "text/plain": [
       "True"
      ]
     },
     "execution_count": 1,
     "metadata": {},
     "output_type": "execute_result"
    }
   ],
   "source": [
    "# Importing required libraries\n",
    "import nltk\n",
    "from nltk.corpus import stopwords\n",
    "from nltk.tokenize import sent_tokenize, word_tokenize\n",
    "\n",
    "# Download required NLTK data\n",
    "nltk.download('punkt')\n",
    "nltk.download('stopwords')\n",
    "nltk.download('averaged_perceptron_tagger')"
   ]
  },
  {
   "cell_type": "code",
   "execution_count": 2,
   "id": "b68a4eb2",
   "metadata": {},
   "outputs": [
    {
     "data": {
      "text/plain": [
       "['\\nThis is a sample speech by Dr. APJ Abdul Kalam.',\n",
       " 'India has a rich tradition in science and technology.',\n",
       " 'We should dream big and work hard to achieve those dreams.',\n",
       " 'NLP plays a significant role in understanding human language.']"
      ]
     },
     "execution_count": 2,
     "metadata": {},
     "output_type": "execute_result"
    }
   ],
   "source": [
    "# Sample paragraph\n",
    "paragraph = '''\n",
    "This is a sample speech by Dr. APJ Abdul Kalam. India has a rich tradition in science and technology. We should dream big and work hard to achieve those dreams. NLP plays a significant role in understanding human language.'''\n",
    "\n",
    "# Convert paragraph into sentences\n",
    "sentences = sent_tokenize(paragraph)\n",
    "sentences"
   ]
  },
  {
   "cell_type": "code",
   "execution_count": 4,
   "id": "e85df0db",
   "metadata": {},
   "outputs": [
    {
     "name": "stderr",
     "output_type": "stream",
     "text": [
      "[nltk_data] Downloading package averaged_perceptron_tagger_eng to\n",
      "[nltk_data]     C:\\Users\\vishalrathod\\AppData\\Roaming\\nltk_data...\n",
      "[nltk_data]   Unzipping taggers\\averaged_perceptron_tagger_eng.zip.\n"
     ]
    },
    {
     "name": "stdout",
     "output_type": "stream",
     "text": [
      "[('sample', 'NN'), ('speech', 'NN'), ('Dr.', 'NNP'), ('APJ', 'NNP'), ('Abdul', 'NNP'), ('Kalam', 'NNP'), ('.', '.')]\n",
      "[('India', 'NNP'), ('rich', 'JJ'), ('tradition', 'NN'), ('science', 'NN'), ('technology', 'NN'), ('.', '.')]\n",
      "[('dream', 'NN'), ('big', 'JJ'), ('work', 'NN'), ('hard', 'JJ'), ('achieve', 'JJ'), ('dreams', 'NN'), ('.', '.')]\n",
      "[('NLP', 'NNP'), ('plays', 'VBZ'), ('significant', 'JJ'), ('role', 'NN'), ('understanding', 'VBG'), ('human', 'JJ'), ('language', 'NN'), ('.', '.')]\n"
     ]
    }
   ],
   "source": [
    "# Download the required POS tagger model if not already present\n",
    "import nltk\n",
    "nltk.download('averaged_perceptron_tagger_eng')\n",
    "\n",
    "# POS Tagging for each sentence after removing stop words\n",
    "for sentence in sentences:\n",
    "    words = word_tokenize(sentence)\n",
    "    words = [word for word in words if word.lower() not in stopwords.words('english')]\n",
    "    pos_tagged = nltk.pos_tag(words, lang='eng')\n",
    "    print(pos_tagged)"
   ]
  },
  {
   "cell_type": "markdown",
   "id": "63c16084",
   "metadata": {},
   "source": [
    "## Assignment\n",
    "Use the following sentence and print its POS tags using NLTK:\n",
    "```python\n",
    "sentence = \"Taj Mahal is a beautiful monument.\"\n",
    "```"
   ]
  },
  {
   "cell_type": "code",
   "execution_count": 6,
   "id": "33f78278",
   "metadata": {},
   "outputs": [
    {
     "name": "stdout",
     "output_type": "stream",
     "text": [
      "[('Taj', 'NNP'), ('Mahal', 'NNP'), ('is', 'VBZ'), ('a', 'DT'), ('beautiful', 'JJ'), ('monument.', 'NN')]\n"
     ]
    }
   ],
   "source": [
    "# Assignment Solution\n",
    "sentence = \"Taj Mahal is a beautiful monument.\"\n",
    "print(nltk.pos_tag(sentence.split(), lang='eng'))"
   ]
  },
  {
   "cell_type": "markdown",
   "id": "501b8025",
   "metadata": {},
   "source": [
    "## Summary\n",
    "- POS tagging labels each word with its part of speech.\n",
    "- NLTK provides a robust method to tag words in text.\n",
    "- This helps in downstream NLP tasks like lemmatization and parsing.\n",
    "\n",
    "This concludes our introduction to POS Tagging."
   ]
  },
  {
   "cell_type": "markdown",
   "id": "d6d1ef35",
   "metadata": {},
   "source": []
  }
 ],
 "metadata": {
  "kernelspec": {
   "display_name": "Python 3",
   "language": "python",
   "name": "python3"
  },
  "language_info": {
   "codemirror_mode": {
    "name": "ipython",
    "version": 3
   },
   "file_extension": ".py",
   "mimetype": "text/x-python",
   "name": "python",
   "nbconvert_exporter": "python",
   "pygments_lexer": "ipython3",
   "version": "3.10.11"
  }
 },
 "nbformat": 4,
 "nbformat_minor": 5
}
